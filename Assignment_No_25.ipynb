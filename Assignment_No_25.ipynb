{
  "nbformat": 4,
  "nbformat_minor": 0,
  "metadata": {
    "colab": {
      "provenance": []
    },
    "kernelspec": {
      "name": "python3",
      "display_name": "Python 3"
    },
    "language_info": {
      "name": "python"
    }
  },
  "cells": [
    {
      "cell_type": "markdown",
      "source": [
        "**1. What is the difference between enclosing a list comprehension in square brackets and parentheses?**"
      ],
      "metadata": {
        "id": "goYRGpK6lCwg"
      }
    },
    {
      "cell_type": "markdown",
      "source": [
        "* **ANS  :Square brackets []: When you enclose a list comprehension in square brackets, it creates a new list.**\n",
        "\n",
        "* **Parentheses (): When you enclose a list comprehension in parentheses, it creates a generator object.** "
      ],
      "metadata": {
        "id": "Ieaa2FpjlKHo"
      }
    },
    {
      "cell_type": "markdown",
      "source": [
        "\n",
        "\n",
        "---\n",
        "\n"
      ],
      "metadata": {
        "id": "LKFfdwdDlvlc"
      }
    },
    {
      "cell_type": "markdown",
      "source": [
        "**2. What is the relationship between generators and iterators?**\n",
        "\n",
        "* **ANS : Iterator in Python is an object that is used to iterate over iterable objects like lists, tuples, dicts, and sets. The iterator object is initialized using the iter() method. It uses the next() method for iteration.**\n",
        "\n",
        "* **Generators: Generators are a type of iterator. They are defined using generator functions or generator expressions. Generator functions are defined like regular functions but use the yield keyword instead of the return keyword to produce a series of values.**"
      ],
      "metadata": {
        "id": "uVVmbBBwlxEL"
      }
    },
    {
      "cell_type": "markdown",
      "source": [
        "\n",
        "\n",
        "---\n",
        "\n"
      ],
      "metadata": {
        "id": "_XFPKc8YoQBX"
      }
    },
    {
      "cell_type": "markdown",
      "source": [
        "**3. What are the signs that a function is a generator function?**\n",
        "\n",
        "**ANS :Use of the yield keyword: The primary characteristic of a generator function is the use of the yield keyword instead of the return keyword.**"
      ],
      "metadata": {
        "id": "QSsU0eVoohnb"
      }
    },
    {
      "cell_type": "markdown",
      "source": [
        "\n",
        "\n",
        "---\n",
        "\n"
      ],
      "metadata": {
        "id": "SFEuX4l6owFq"
      }
    },
    {
      "cell_type": "markdown",
      "source": [
        "**4 What is the purpose of a yield statement?**\n",
        "\n",
        "**ANS :**\n",
        "\n",
        "**yield is basically a keyword which is used to create the generator.\n",
        "yield funciotn return a generator object and it store where value it is being called.  \n",
        "yield function hold some part of data as compare to normal function return just result.**"
      ],
      "metadata": {
        "id": "5ofHaf3AoxXR"
      }
    },
    {
      "cell_type": "markdown",
      "source": [
        "\n",
        "\n",
        "---\n",
        "\n"
      ],
      "metadata": {
        "id": "hua7BbC_pPaa"
      }
    },
    {
      "cell_type": "markdown",
      "source": [
        "**5 What is the relationship between map calls and list comprehensions? Make a comparison and contrast between the two.**\n",
        "\n",
        "**ANS : Syntax:**\n",
        "\n",
        "**Map: The map() function takes a function and one or more iterables and applies the function to each corresponding element from the iterables. The syntax is map(function, iterable1, iterable2, ...).**\n",
        "\n",
        "\n",
        "**List Comprehension: A list comprehension is a compact way to create a new list by iterating over an iterable and applying an expression or condition. The syntax is [expression for element in iterable if condition].\n",
        "Functionality**\n",
        "\n",
        "**Map: The map() function applies a provided function to each element of the iterable(s) and returns an iterator that yields the transformed values.**\n",
        "\n",
        "\n",
        "**List Comprehension: A list comprehension creates a new list by evaluating an expression for each element in the iterable(s). It can also include an optional condition to filter elements.**"
      ],
      "metadata": {
        "id": "08VGOnGTpQqx"
      }
    },
    {
      "cell_type": "markdown",
      "source": [
        "\n",
        "\n",
        "---\n",
        "\n"
      ],
      "metadata": {
        "id": "r5hA71_ZqwUH"
      }
    },
    {
      "cell_type": "code",
      "execution_count": null,
      "metadata": {
        "id": "c8YOBXL3k7oU"
      },
      "outputs": [],
      "source": []
    }
  ]
}